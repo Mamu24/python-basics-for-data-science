{
  "nbformat": 4,
  "nbformat_minor": 0,
  "metadata": {
    "colab": {
      "provenance": [],
      "include_colab_link": true
    },
    "kernelspec": {
      "name": "python3",
      "display_name": "Python 3"
    },
    "language_info": {
      "name": "python"
    }
  },
  "cells": [
    {
      "cell_type": "markdown",
      "metadata": {
        "id": "view-in-github",
        "colab_type": "text"
      },
      "source": [
        "<a href=\"https://colab.research.google.com/github/Mamu24/python-basics-for-data-science/blob/main/Copy_of_001_python_class_day_one.ipynb\" target=\"_parent\"><img src=\"https://colab.research.google.com/assets/colab-badge.svg\" alt=\"Open In Colab\"/></a>"
      ]
    },
    {
      "cell_type": "markdown",
      "source": [
        "# ***My first Python Code***"
      ],
      "metadata": {
        "id": "arYe7otn0fvE"
      }
    },
    {
      "cell_type": "code",
      "execution_count": null,
      "metadata": {
        "colab": {
          "base_uri": "https://localhost:8080/"
        },
        "id": "mNl-xFitxPcz",
        "outputId": "e616dcb0-7ab0-4972-de9d-037e85b4fee9"
      },
      "outputs": [
        {
          "output_type": "stream",
          "name": "stdout",
          "text": [
            "My name is Maryam\n"
          ]
        }
      ],
      "source": [
        "# code cell, console (thats where we see our output)\n",
        "# runnning a code is executing in order to see output\n",
        "# notebook coding environment allows for text, the code itself, then the output\n",
        "# extensions denote the kind of file you're working with\n",
        "# .ipynb - denotes a python notebook, .docx, .pdf, .csv, .xlsx\n",
        "\n",
        "print (\"My name is Maryam\")"
      ]
    },
    {
      "cell_type": "code",
      "source": [
        "# Example 1\n",
        "# use print to display output\n",
        "\n",
        "print(\"This is my first Epic Class\")"
      ],
      "metadata": {
        "colab": {
          "base_uri": "https://localhost:8080/"
        },
        "id": "NvpBnmvH0Zfr",
        "outputId": "bfc0eaf2-9aa0-4ea7-a978-ef32bac0e34b"
      },
      "execution_count": null,
      "outputs": [
        {
          "output_type": "stream",
          "name": "stdout",
          "text": [
            "This is my first Epic Class\n"
          ]
        }
      ]
    },
    {
      "cell_type": "code",
      "source": [
        "# Example 2\n",
        "# print the sum of 2 numbers 56 and 67\n",
        "\n",
        "print (56 + 67)"
      ],
      "metadata": {
        "colab": {
          "base_uri": "https://localhost:8080/"
        },
        "id": "hav1stmWAegR",
        "outputId": "358d8556-f813-4d18-8c49-dfaadc977f83"
      },
      "execution_count": null,
      "outputs": [
        {
          "output_type": "stream",
          "name": "stdout",
          "text": [
            "123\n"
          ]
        }
      ]
    },
    {
      "cell_type": "code",
      "source": [
        "# Commenting our code\n",
        "# documentation is providing comments on what a piece of code is doing\n",
        "\n",
        "# Example 3\n",
        "\n",
        "# this line prints/outputs/displays a statement about my country\n",
        "print (\"My home is Kenya, all wild and wonderful\") # printing command"
      ],
      "metadata": {
        "colab": {
          "base_uri": "https://localhost:8080/"
        },
        "id": "Wjo07bWvA8hy",
        "outputId": "373e0240-f88a-4151-d961-6edaaa2e5429"
      },
      "execution_count": null,
      "outputs": [
        {
          "output_type": "stream",
          "name": "stdout",
          "text": [
            "My home is Kenya, all wild and wonderful\n"
          ]
        }
      ]
    },
    {
      "cell_type": "code",
      "source": [
        "# Example 4\n",
        "# multiline comments\n",
        "\n",
        "# the code below describes my data science journey\n",
        "# and then displays the output\n",
        "print (\"I have just began my Data Science Journey\")"
      ],
      "metadata": {
        "colab": {
          "base_uri": "https://localhost:8080/"
        },
        "id": "JXCUxtShCC9q",
        "outputId": "5c298057-3f3f-4ab4-d0da-8d0aa86c10e5"
      },
      "execution_count": null,
      "outputs": [
        {
          "output_type": "stream",
          "name": "stdout",
          "text": [
            "I have just began my Data Science Journey\n"
          ]
        }
      ]
    },
    {
      "cell_type": "code",
      "source": [
        "# Challenge 1\n",
        "# add multiline comments that explains what is happening\n",
        "# if your print out the name of your home town\n",
        "\n",
        "OUR CODE GOES HERE"
      ],
      "metadata": {
        "id": "r0k_JyOtCiTJ"
      },
      "execution_count": null,
      "outputs": []
    },
    {
      "cell_type": "code",
      "source": [
        "# Challenge 2:\n",
        "# Add comments to the program below. Add comments in two lines.\n",
        "#\n",
        "\n",
        "# we describe a greeting to watamu\n",
        "a = \"Hello Watamu!\"\n",
        "\n",
        "# we display the outout of a\n",
        "print(a)"
      ],
      "metadata": {
        "id": "gIAqMf7bEFEb"
      },
      "execution_count": null,
      "outputs": []
    },
    {
      "cell_type": "code",
      "source": [
        "# Challenge 3:\n",
        "# Run the code below then try to figure out what happens.\n",
        "# Then from your understanding, provide a documentation to the program\n",
        "# NB: By documentation we mean add comments to the program\n",
        "# to help the reader to understand the program.\n",
        "# Hint: Explain each line of the program.\n",
        "#\n",
        "\n",
        "# the first line is a list of the months of the year\n",
        "months = ['January', 'February', 'March', 'April',\n",
        "          'May', 'June', 'July','August','September',\n",
        "          'October', 'November','December']\n",
        "\n",
        "#\n",
        "def showCalender(months):\n",
        "    for month in months:\n",
        "        print(month)\n",
        "\n",
        "#\n",
        "showCalender(months)"
      ],
      "metadata": {
        "colab": {
          "base_uri": "https://localhost:8080/"
        },
        "id": "m8w1wx0bGb1G",
        "outputId": "0e5d541b-94b2-47f7-df1f-15eeb5042e53"
      },
      "execution_count": null,
      "outputs": [
        {
          "output_type": "stream",
          "name": "stdout",
          "text": [
            "January\n",
            "February\n",
            "March\n",
            "April\n",
            "May\n",
            "June\n",
            "July\n",
            "August\n",
            "September\n",
            "October\n",
            "November\n",
            "December\n"
          ]
        }
      ]
    },
    {
      "cell_type": "markdown",
      "source": [
        "### Variables"
      ],
      "metadata": {
        "id": "DR7mgvaUG-l4"
      }
    },
    {
      "cell_type": "code",
      "source": [
        "# Example 5\n",
        "# we store the value 10 in a variable p\n",
        "# we are assigning the value 10 to the variable p\n",
        "\n",
        "p = 10\n",
        "print(p)"
      ],
      "metadata": {
        "colab": {
          "base_uri": "https://localhost:8080/"
        },
        "id": "ct8MCwKAHA1u",
        "outputId": "8c6cfb51-b99d-42f0-8d7d-961739fdb8f7"
      },
      "execution_count": null,
      "outputs": [
        {
          "output_type": "stream",
          "name": "stdout",
          "text": [
            "10\n"
          ]
        }
      ]
    },
    {
      "cell_type": "code",
      "source": [
        "# Challenge 4\n",
        "# Nice, Work now on this challenge:\n",
        "# Create a savings variable with the value 1000\n",
        "#\n",
        "\n",
        "# Then print this savings variable below this line;\n",
        "savings = 1000"
      ],
      "metadata": {
        "id": "98959nzPIx3N"
      },
      "execution_count": null,
      "outputs": []
    },
    {
      "cell_type": "code",
      "source": [
        "# Challenge 5\n",
        "# Assign the book Harry Potter and the Deathly Hollows to the\n",
        "# variable book\n",
        "\n",
        "book = \"Harry Potter and the Deathly Hollows\""
      ],
      "metadata": {
        "id": "6IpN-sZHI6cf"
      },
      "execution_count": null,
      "outputs": []
    },
    {
      "cell_type": "code",
      "source": [
        "# Challenge 6\n",
        "# fix the following code and run it\n",
        "\n",
        "# \"Einstein\" = quote_3\n",
        "\n",
        "quote_3 = \"Einstein\""
      ],
      "metadata": {
        "id": "zTTq5iRGJDWj"
      },
      "execution_count": null,
      "outputs": []
    },
    {
      "cell_type": "code",
      "source": [
        "a=30\n",
        "b=20\n",
        "a=a+b\n",
        "print(a)"
      ],
      "metadata": {
        "colab": {
          "base_uri": "https://localhost:8080/"
        },
        "id": "nBLNYvDxqN7i",
        "outputId": "9498c106-a579-4b55-b2c3-bc1737a95311"
      },
      "execution_count": null,
      "outputs": [
        {
          "output_type": "stream",
          "name": "stdout",
          "text": [
            "50\n"
          ]
        }
      ]
    },
    {
      "cell_type": "code",
      "source": [
        "#modulo\n",
        "print(7%2)"
      ],
      "metadata": {
        "colab": {
          "base_uri": "https://localhost:8080/"
        },
        "id": "EJQg9phirLeb",
        "outputId": "bb3c336c-2b3b-4b1b-af2f-3815f9d76986"
      },
      "execution_count": null,
      "outputs": [
        {
          "output_type": "stream",
          "name": "stdout",
          "text": [
            "1\n"
          ]
        }
      ]
    },
    {
      "cell_type": "code",
      "source": [
        "a=50\n",
        "b=100\n",
        "c=500\n",
        "d=3\n",
        "a=a+b+c\n",
        "print(a/d)\n",
        "p"
      ],
      "metadata": {
        "colab": {
          "base_uri": "https://localhost:8080/"
        },
        "id": "a-AQfHF6ro3-",
        "outputId": "87727590-cd79-4770-bdcb-815127f29c24"
      },
      "execution_count": null,
      "outputs": [
        {
          "output_type": "stream",
          "name": "stdout",
          "text": [
            "216.66666666666666\n"
          ]
        }
      ]
    },
    {
      "cell_type": "code",
      "source": [
        "j=4500\n",
        "s=2500\n",
        "a=3\n",
        "b=6\n",
        "#3 jeans and 6 tshirts\n",
        "a=(a*j)+(6*s)\n",
        "print(a)\n"
      ],
      "metadata": {
        "colab": {
          "base_uri": "https://localhost:8080/"
        },
        "id": "Uv8GPPs-r01q",
        "outputId": "a3c8c35e-5aae-4235-de00-af7d8f44c13d"
      },
      "execution_count": null,
      "outputs": [
        {
          "output_type": "stream",
          "name": "stdout",
          "text": [
            "28500\n"
          ]
        }
      ]
    },
    {
      "cell_type": "code",
      "source": [
        "savings=1000\n",
        "return_rate=1.1\n",
        "total_amount_7years=1000*1.1**7\n",
        "print(total_amount_7years)"
      ],
      "metadata": {
        "colab": {
          "base_uri": "https://localhost:8080/"
        },
        "id": "fa73fqxYspEY",
        "outputId": "a6fbc9c6-e140-464a-fb01-219a9b6d0069"
      },
      "execution_count": null,
      "outputs": [
        {
          "output_type": "stream",
          "name": "stdout",
          "text": [
            "1948.7171000000012\n"
          ]
        }
      ]
    },
    {
      "cell_type": "code",
      "source": [
        "#input() allowsfor user input\n",
        "g=input(\"enter a number:\")\n",
        "g=int(g)\n",
        "print(g+2)"
      ],
      "metadata": {
        "colab": {
          "base_uri": "https://localhost:8080/"
        },
        "id": "n5Cb53g0vBet",
        "outputId": "9210c8b0-ba2a-4a7f-e318-161609b34cf4"
      },
      "execution_count": null,
      "outputs": [
        {
          "output_type": "stream",
          "name": "stdout",
          "text": [
            "enter a number:20\n",
            "22\n",
            "enter a number:33\n",
            "35\n"
          ]
        }
      ]
    },
    {
      "cell_type": "code",
      "source": [
        "x=input(\"enter the first number:\")\n",
        "y=input(\"enter the second number:\")\n",
        "print(int(x)+int(y))\n"
      ],
      "metadata": {
        "colab": {
          "base_uri": "https://localhost:8080/"
        },
        "id": "Dr5ltO6LvBYe",
        "outputId": "622e87f6-ff03-4f7f-9a8c-1f776bb9eb7c"
      },
      "execution_count": null,
      "outputs": [
        {
          "output_type": "stream",
          "name": "stdout",
          "text": [
            "enter the second number:3\n",
            "5\n"
          ]
        }
      ]
    },
    {
      "cell_type": "code",
      "source": [
        "note=input(\"enter the note value\")\n",
        "note=int(note)\n",
        "change=note-50\n",
        "den_100=int(change/100)\n",
        "den_50=int((change%100)/50)\n",
        "print(\"your change is in ksh 100 notes:\",den_100,\"/nksh 50 notes:\",den_50)\n"
      ],
      "metadata": {
        "colab": {
          "base_uri": "https://localhost:8080/"
        },
        "id": "FczHz56ExLQn",
        "outputId": "c5dafc94-be7e-42ce-bc50-510f0c6cedf0"
      },
      "execution_count": null,
      "outputs": [
        {
          "output_type": "stream",
          "name": "stdout",
          "text": [
            "enter the note value500\n",
            "your change is in ksh 100 notes: 4 /nksh 50 notes: 1\n"
          ]
        }
      ]
    },
    {
      "cell_type": "code",
      "source": [
        "# data types#integer eg. 50\n",
        "#float has decimal 3.142\n",
        "#string is statement, \"epic data science\"\n",
        "#bolean represents the logical state of a computer\n",
        "True"
      ],
      "metadata": {
        "colab": {
          "base_uri": "https://localhost:8080/"
        },
        "id": "fDj-_8Xv1AgS",
        "outputId": "14e85266-b7e7-4800-c486-69e5b40930b6"
      },
      "execution_count": null,
      "outputs": [
        {
          "output_type": "execute_result",
          "data": {
            "text/plain": [
              "True"
            ]
          },
          "metadata": {},
          "execution_count": 12
        }
      ]
    },
    {
      "cell_type": "code",
      "source": [
        "print(50)\n",
        "print(3.142)\n",
        "print(\"epic data science\")\n",
        "print(True)"
      ],
      "metadata": {
        "colab": {
          "base_uri": "https://localhost:8080/"
        },
        "id": "_hlFzQo71ztU",
        "outputId": "6b4f66f7-b967-4f02-dd01-82d72c1fc2e8"
      },
      "execution_count": null,
      "outputs": [
        {
          "output_type": "stream",
          "name": "stdout",
          "text": [
            "50\n",
            "3.142\n",
            "epic data science\n",
            "True\n"
          ]
        }
      ]
    },
    {
      "cell_type": "code",
      "source": [
        "x=int(50)\n",
        "y=float(3.142)\n",
        "z=str(\"epic data science\")\n",
        "t=bool(True)\n",
        "\n",
        "print(x)\n",
        "print(y)\n",
        "print(z)\n",
        "print(t)"
      ],
      "metadata": {
        "colab": {
          "base_uri": "https://localhost:8080/"
        },
        "id": "YjByeTDJ2PDI",
        "outputId": "a41c2b4e-b9bf-480a-fb3f-c57f828a6734"
      },
      "execution_count": null,
      "outputs": [
        {
          "output_type": "stream",
          "name": "stdout",
          "text": [
            "50\n",
            "3.142\n",
            "epic data science\n",
            "True\n"
          ]
        }
      ]
    },
    {
      "cell_type": "code",
      "source": [
        "print(type(x))\n",
        "print(type(y))\n",
        "print(type(z))\n",
        "print(type(t))\n"
      ],
      "metadata": {
        "colab": {
          "base_uri": "https://localhost:8080/"
        },
        "id": "leTz76FK3P-H",
        "outputId": "2bef5ed9-d232-4b77-d4cf-8ab3569db4f9"
      },
      "execution_count": null,
      "outputs": [
        {
          "output_type": "stream",
          "name": "stdout",
          "text": [
            "<class 'int'>\n",
            "<class 'float'>\n",
            "<class 'str'>\n",
            "<class 'bool'>\n"
          ]
        }
      ]
    },
    {
      "cell_type": "code",
      "source": [
        "#conert int to float\n",
        "a=float(x)\n",
        "print(a)\n",
        "#convert float to int\n",
        "b=int(y)\n",
        "print(b)"
      ],
      "metadata": {
        "colab": {
          "base_uri": "https://localhost:8080/"
        },
        "id": "lyOEnvo83zUl",
        "outputId": "8d10caa6-c039-43fe-e16f-7dee0db5b2f6"
      },
      "execution_count": null,
      "outputs": [
        {
          "output_type": "stream",
          "name": "stdout",
          "text": [
            "50.0\n",
            "3\n"
          ]
        }
      ]
    },
    {
      "cell_type": "code",
      "source": [
        "#boolean; used as representation of logic\n",
        "print(True)\n",
        "print(False)\n"
      ],
      "metadata": {
        "colab": {
          "base_uri": "https://localhost:8080/"
        },
        "id": "kKA-xlTB4r6H",
        "outputId": "c2618009-9e71-4e5c-b75f-da80301256bc"
      },
      "execution_count": null,
      "outputs": [
        {
          "output_type": "stream",
          "name": "stdout",
          "text": [
            "True\n",
            "False\n"
          ]
        }
      ]
    },
    {
      "cell_type": "code",
      "source": [
        "#conditional/if statements\n",
        "#check a certain condition before we apply an opration\n",
        "x=200\n",
        "y=100\n",
        "if y<x:\n",
        "  print(\"y is less than x\")"
      ],
      "metadata": {
        "colab": {
          "base_uri": "https://localhost:8080/"
        },
        "id": "k0y9_TF17he9",
        "outputId": "ed57e756-f684-4734-eb4c-dd81e0b3bf51"
      },
      "execution_count": null,
      "outputs": [
        {
          "output_type": "stream",
          "name": "stdout",
          "text": [
            "y is less than x\n"
          ]
        }
      ]
    },
    {
      "cell_type": "code",
      "source": [
        "x=int(input(\"enter  a value of x:\"))\n",
        "y=int(input(\"enter a value for y:\"))\n",
        "if y<x:\n",
        "  print(\"y is less than x\")"
      ],
      "metadata": {
        "colab": {
          "base_uri": "https://localhost:8080/"
        },
        "id": "QbGIVMZl79G8",
        "outputId": "d0bc2b4e-a2c2-4df8-efbb-510946a3840e"
      },
      "execution_count": null,
      "outputs": [
        {
          "output_type": "stream",
          "name": "stdout",
          "text": [
            "enter  a value of x:10\n",
            "enter a value for y:6\n",
            "y is less than x\n"
          ]
        }
      ]
    },
    {
      "cell_type": "code",
      "source": [
        "#ELIF/ELSE IF;tries another condition\n",
        "x=33\n",
        "y=34\n",
        "if y<x:\n",
        " print(\"y is less than x\")\n",
        "elif y>x:\n",
        " print(\"y is greater than x\")\n",
        "elif y==x:\n",
        "  print(\"y is equal to x\")"
      ],
      "metadata": {
        "colab": {
          "base_uri": "https://localhost:8080/"
        },
        "id": "eRwzs2RP9n02",
        "outputId": "ae6537b1-0715-44e4-d9a0-2aebc326817c"
      },
      "execution_count": null,
      "outputs": [
        {
          "output_type": "stream",
          "name": "stdout",
          "text": [
            "y is greater than x\n"
          ]
        }
      ]
    },
    {
      "cell_type": "code",
      "source": [
        "# # Challenge 11\n",
        "# write a program that reads an integer\n",
        "# from a user then displays a message indicating\n",
        "# whether the integer is even or odd.\n",
        "#Ask the user to input an integer\n",
        "number = int(input(\"Enter an integer: \"))\n",
        "\n",
        "# Check if the number is even or odd\n",
        "if number % 2 == 0:\n",
        "    print(f\"{number} is even.\")\n",
        "else:\n",
        "    print(f\"{number} is odd.\")"
      ],
      "metadata": {
        "id": "P0zgHueF_Pyc",
        "colab": {
          "base_uri": "https://localhost:8080/"
        },
        "outputId": "f910d5c1-0231-443b-869b-2f454520924c"
      },
      "execution_count": null,
      "outputs": [
        {
          "output_type": "stream",
          "name": "stdout",
          "text": [
            "Enter an integer: 4\n",
            "4 is even.\n"
          ]
        }
      ]
    },
    {
      "cell_type": "code",
      "source": [
        "# Challenge 12\n",
        "# Can you write a program that has a third option to detect prime numbers?\n",
        "#def is_prime(n):\n",
        "    \"\"\"Returns True if n is a prime number, False otherwise.\"\"\"\n",
        "    if n <= 1:\n",
        "        return False\n",
        "    elif n == 2:\n",
        "        return True\n",
        "    elif n % 2 == 0:\n",
        "        return False\n",
        "    for i in range(3, int(n ** 0.5) + 1, 2):\n",
        "        if n % i == 0:\n",
        "            return False\n",
        "    return True\n",
        "\n",
        "# Ask the user to input an integer\n",
        "number = int(input(\"Enter an integer: \"))\n",
        "\n",
        "# Check if the number is even or odd\n",
        "if number % 2 == 0:\n",
        "    print(f\"{number} is even.\")\n",
        "else:\n",
        "    print(f\"{number} is odd.\")\n",
        "\n",
        "# Additionally check if the number is prime\n",
        "if is_prime(number):\n",
        "    print(f\"{number} is also a prime number.\")\n",
        "else:\n",
        "    print(f\"{number} is not a prime number.\")"
      ],
      "metadata": {
        "id": "-nGYw9J2bU9x"
      },
      "execution_count": null,
      "outputs": []
    },
    {
      "cell_type": "code",
      "source": [
        "# Challenge 13\n",
        "# We now write a program that reads a input from a user.\n",
        "# If the user enters a, e, i, o or u then our program should\n",
        "# display a message indicating that the entered letter is a vowel.\n",
        "# If our user enters y then our program should display a message\n",
        "# indicating that sometimes y is a vowel, and sometimes y is a consonant.\n",
        "# Otherwise our program should display a message indicating that the\n",
        "# letter is a consonant.\n",
        "# Program to identify vowels, consonants, and the letter 'y'\n",
        "\n",
        "# Get input from the user\n",
        "letter = input(\"Enter a single letter: \").lower()\n",
        "\n",
        "# Ensure the input is a single alphabet character\n",
        "if len(letter) != 1 or not letter.isalpha():\n",
        "    print(\"Please enter a single alphabet letter.\")\n",
        "else:\n",
        "    if letter in ['a', 'e', 'i', 'o', 'u']:\n",
        "        print(f\"'{letter}' is a vowel.\")\n",
        "    elif letter == 'y':\n",
        "        print(\"'y' is sometimes a vowel and sometimes a consonant.\")\n",
        "    else:\n",
        "        print(f\"'{letter}' is a consonant.\")"
      ],
      "metadata": {
        "colab": {
          "base_uri": "https://localhost:8080/"
        },
        "id": "KXAx9EjDb3Qy",
        "outputId": "7a373d72-ece4-4d06-c394-79371fd67a0d"
      },
      "execution_count": null,
      "outputs": [
        {
          "output_type": "stream",
          "name": "stdout",
          "text": [
            "Enter a single letter: a\n",
            "'a' is a vowel.\n"
          ]
        }
      ]
    },
    {
      "cell_type": "code",
      "source": [
        "#ELSE\n",
        "#else keyword will catch anything else which is not caught\n"
      ],
      "metadata": {
        "id": "rkG6P2tjhorN"
      },
      "execution_count": null,
      "outputs": []
    },
    {
      "cell_type": "code",
      "source": [
        "#AND\n",
        "#we use and to combine conditional statements\n",
        "name=\"Maryam\"\n",
        "country=\"Kenya\"\n",
        "\n",
        "if name==\"Maryam\" and country =='Kenya':\n",
        "  print(\"You have a revolutionary spirit\")\n"
      ],
      "metadata": {
        "colab": {
          "base_uri": "https://localhost:8080/"
        },
        "id": "_FnhMXDKkBiw",
        "outputId": "981c75c3-4acc-4797-b44a-68712d0aaaad"
      },
      "execution_count": null,
      "outputs": [
        {
          "output_type": "stream",
          "name": "stdout",
          "text": [
            "You have a revolutionary spirit\n"
          ]
        }
      ]
    },
    {
      "cell_type": "code",
      "source": [
        "#declaring our variables\n",
        "x=11\n",
        "y=10\n",
        "z=12\n",
        "if x>y and z > x:\n",
        "  print(\"Both conditions are true\")"
      ],
      "metadata": {
        "colab": {
          "base_uri": "https://localhost:8080/"
        },
        "id": "6DS9UoCWlCPe",
        "outputId": "122bb786-2efd-4a76-acd7-b7e375566fd8"
      },
      "execution_count": null,
      "outputs": [
        {
          "output_type": "stream",
          "name": "stdout",
          "text": [
            "Both conditions are true\n"
          ]
        }
      ]
    },
    {
      "cell_type": "code",
      "source": [
        "#OR\n",
        "#atleast one must be true\n",
        "#declaring our variables\n",
        "height=\"6 feet\"\n",
        "complexion=\"dark & handsome\"\n",
        "if height==\"5 feet\" or complexion==\"dark & handsome\":\n",
        "print(\"you have meet one of the conditions\")"
      ],
      "metadata": {
        "colab": {
          "base_uri": "https://localhost:8080/",
          "height": 106
        },
        "id": "zNblX7MElceR",
        "outputId": "650ac861-c992-4141-ca6b-6cca503aa7b5"
      },
      "execution_count": null,
      "outputs": [
        {
          "output_type": "error",
          "ename": "IndentationError",
          "evalue": "expected an indented block after 'if' statement on line 6 (ipython-input-8-2400913292.py, line 7)",
          "traceback": [
            "\u001b[0;36m  File \u001b[0;32m\"/tmp/ipython-input-8-2400913292.py\"\u001b[0;36m, line \u001b[0;32m7\u001b[0m\n\u001b[0;31m    print(\"you have meet one of the conditions\")\u001b[0m\n\u001b[0m    ^\u001b[0m\n\u001b[0;31mIndentationError\u001b[0m\u001b[0;31m:\u001b[0m expected an indented block after 'if' statement on line 6\n"
          ]
        }
      ]
    },
    {
      "cell_type": "code",
      "source": [
        "#combining use of or and and\n",
        "w=10\n",
        "x=15\n",
        "y=20\n",
        "z=25\n",
        "if(w==10 and x==15) or (y==16 or z==25):\n",
        "  print(\"if statement is true\")\n",
        "  else:\n",
        "    print(\"false\")\n"
      ],
      "metadata": {
        "colab": {
          "base_uri": "https://localhost:8080/",
          "height": 106
        },
        "id": "BCCR0CpBmv8s",
        "outputId": "cead6dd2-9b9a-4e22-95e0-9d762d085f78"
      },
      "execution_count": null,
      "outputs": [
        {
          "output_type": "error",
          "ename": "SyntaxError",
          "evalue": "invalid syntax (ipython-input-9-2826375282.py, line 8)",
          "traceback": [
            "\u001b[0;36m  File \u001b[0;32m\"/tmp/ipython-input-9-2826375282.py\"\u001b[0;36m, line \u001b[0;32m8\u001b[0m\n\u001b[0;31m    else:\u001b[0m\n\u001b[0m    ^\u001b[0m\n\u001b[0;31mSyntaxError\u001b[0m\u001b[0;31m:\u001b[0m invalid syntax\n"
          ]
        }
      ]
    },
    {
      "cell_type": "code",
      "source": [
        "#challeng 19\n",
        "x=int(input(\"enter a number\"))"
      ],
      "metadata": {
        "id": "DvO0s34rqk2I"
      },
      "execution_count": null,
      "outputs": []
    },
    {
      "cell_type": "code",
      "source": [
        "#26\n",
        "#LOOPS AND ITERATION\n",
        "#iterate over a range\n",
        "for i in range(5):\n",
        "print(f\"iteration\")\n"
      ],
      "metadata": {
        "colab": {
          "base_uri": "https://localhost:8080/",
          "height": 106
        },
        "id": "xoJ0LOBRrACU",
        "outputId": "a844998f-0688-4e8f-82f9-3c27a045da8f"
      },
      "execution_count": null,
      "outputs": [
        {
          "output_type": "error",
          "ename": "IndentationError",
          "evalue": "expected an indented block after 'for' statement on line 3 (ipython-input-13-658528242.py, line 4)",
          "traceback": [
            "\u001b[0;36m  File \u001b[0;32m\"/tmp/ipython-input-13-658528242.py\"\u001b[0;36m, line \u001b[0;32m4\u001b[0m\n\u001b[0;31m    print(f\"iteration {i}\")\u001b[0m\n\u001b[0m    ^\u001b[0m\n\u001b[0;31mIndentationError\u001b[0m\u001b[0;31m:\u001b[0m expected an indented block after 'for' statement on line 3\n"
          ]
        }
      ]
    },
    {
      "cell_type": "code",
      "source": [
        "count=0"
      ],
      "metadata": {
        "id": "kVn42XiQsx9C"
      },
      "execution_count": null,
      "outputs": []
    },
    {
      "cell_type": "code",
      "source": [
        "#28\n",
        "timer=10\n",
        "while timer is > 0\n",
        "print(f\"Time remaining\")"
      ],
      "metadata": {
        "id": "hLuvTrEktFE6"
      },
      "execution_count": null,
      "outputs": []
    },
    {
      "cell_type": "code",
      "source": [
        "my_list= [1,2]\n",
        ".append(4.8)\n"
      ],
      "metadata": {
        "colab": {
          "base_uri": "https://localhost:8080/",
          "height": 158
        },
        "id": "dqOdWgGoh3IO",
        "outputId": "fb20ecea-b590-4ca5-ea37-dfb19655ada4"
      },
      "execution_count": null,
      "outputs": [
        {
          "output_type": "error",
          "ename": "NameError",
          "evalue": "name 'my_list' is not defined",
          "traceback": [
            "\u001b[0;31m---------------------------------------------------------------------------\u001b[0m",
            "\u001b[0;31mNameError\u001b[0m                                 Traceback (most recent call last)",
            "\u001b[0;32m/tmp/ipython-input-1-2908926410.py\u001b[0m in \u001b[0;36m<cell line: 0>\u001b[0;34m()\u001b[0m\n\u001b[0;32m----> 1\u001b[0;31m my_list.append(4.8\n\u001b[0m\u001b[1;32m      2\u001b[0m                   )\n",
            "\u001b[0;31mNameError\u001b[0m: name 'my_list' is not defined"
          ]
        }
      ]
    },
    {
      "cell_type": "code",
      "source": [
        "#tuples\n",
        "my_tuple= (\"epic\", False, int(3), float(56))\n",
        "print(my_tuple)"
      ],
      "metadata": {
        "colab": {
          "base_uri": "https://localhost:8080/"
        },
        "id": "SVnAR232jgwT",
        "outputId": "a0bd7fb0-8068-49c6-f18a-c861255cb3bb"
      },
      "execution_count": null,
      "outputs": [
        {
          "output_type": "stream",
          "name": "stdout",
          "text": [
            "('epic', False, 3, 56.0)\n"
          ]
        }
      ]
    },
    {
      "cell_type": "code",
      "source": [
        "#you cannot add or subtract a tuple\n",
        "red= (255,0,0)\n",
        "green=(0,255,0)\n",
        "white=(255,255,255)\n",
        "resolution=(1080,720)"
      ],
      "metadata": {
        "id": "HAMmPt5KktJG"
      },
      "execution_count": null,
      "outputs": []
    },
    {
      "cell_type": "code",
      "source": [
        "#dictionaries\n",
        "my_dict={\"name\": \"maryam\", \"age\":16, \"county\":\"lamu\"}\n",
        "my_dict={\"name\": \"maryam\", \"age\":16, \"county\":\"lamu\"}\n",
        "print(my_dict)"
      ],
      "metadata": {
        "colab": {
          "base_uri": "https://localhost:8080/"
        },
        "id": "DQYFm6ebnFub",
        "outputId": "dc21742e-8853-4c1a-80e0-65d92555d650"
      },
      "execution_count": null,
      "outputs": [
        {
          "output_type": "stream",
          "name": "stdout",
          "text": [
            "{'name': 'maryam', 'age': 16, 'county': 'lamu'}\n"
          ]
        }
      ]
    },
    {
      "cell_type": "code",
      "source": [
        "#adding items to a dictionary\n",
        "my_dict[\"club\"] =\"arsenal\"\n",
        "print(my_dict)"
      ],
      "metadata": {
        "colab": {
          "base_uri": "https://localhost:8080/"
        },
        "id": "KRD5O-dvoNfT",
        "outputId": "2f9c4776-5bde-4f71-a2fa-12697b591ea9"
      },
      "execution_count": null,
      "outputs": [
        {
          "output_type": "stream",
          "name": "stdout",
          "text": [
            "{'name': 'maryam', 'age': 16, 'county': 'lamu', 'club': 'arsenal'}\n"
          ]
        }
      ]
    },
    {
      "cell_type": "code",
      "source": [
        "#var with more than one item(values)\n",
        "my_dict2= {\"name\": [\"maryam\",\"dan\"], \"age\":[16,30], \"county\":[\"lamu\",\"nairobi\"],\"club\":[\"arsenal\",\"liverpool\"]\n",
        "           print(my_dict2)}"
      ],
      "metadata": {
        "colab": {
          "base_uri": "https://localhost:8080/",
          "height": 106
        },
        "id": "bD17hn0mothE",
        "outputId": "0dc60774-7017-4b30-de0d-dd248f82d6b4"
      },
      "execution_count": null,
      "outputs": [
        {
          "output_type": "error",
          "ename": "SyntaxError",
          "evalue": "invalid syntax. Perhaps you forgot a comma? (ipython-input-8-2687138118.py, line 2)",
          "traceback": [
            "\u001b[0;36m  File \u001b[0;32m\"/tmp/ipython-input-8-2687138118.py\"\u001b[0;36m, line \u001b[0;32m2\u001b[0m\n\u001b[0;31m    my_dict2= {\"name\": [\"maryam\",\"dan\"], \"age\":[16,30], \"county\":[\"lamu\",\"nairobi\"],\"club\":[\"arsenal\",\"liverpool\"]\u001b[0m\n\u001b[0m                                                                                           ^\u001b[0m\n\u001b[0;31mSyntaxError\u001b[0m\u001b[0;31m:\u001b[0m invalid syntax. Perhaps you forgot a comma?\n"
          ]
        }
      ]
    },
    {
      "cell_type": "code",
      "source": [
        "#convert a dictionary to a dataset\n",
        "#we make use of panda library to create a dataset\n",
        "#libraries ara acollection of functions that perform specific functions\n",
        "#pandas is a library used for data manipulation\n",
        "\n",
        "import pandas as pd\n",
        "df= pd.DataFrame(my_dict2)\n",
        "df"
      ],
      "metadata": {
        "colab": {
          "base_uri": "https://localhost:8080/",
          "height": 193
        },
        "id": "WS_D0254q1cQ",
        "outputId": "87dd73fe-cb2c-4a5c-b8ed-f0c3b6ac696f"
      },
      "execution_count": null,
      "outputs": [
        {
          "output_type": "error",
          "ename": "NameError",
          "evalue": "name 'my_dict2' is not defined",
          "traceback": [
            "\u001b[0;31m---------------------------------------------------------------------------\u001b[0m",
            "\u001b[0;31mNameError\u001b[0m                                 Traceback (most recent call last)",
            "\u001b[0;32m/tmp/ipython-input-9-3864130294.py\u001b[0m in \u001b[0;36m<cell line: 0>\u001b[0;34m()\u001b[0m\n\u001b[1;32m      5\u001b[0m \u001b[0;34m\u001b[0m\u001b[0m\n\u001b[1;32m      6\u001b[0m \u001b[0;32mimport\u001b[0m \u001b[0mpandas\u001b[0m \u001b[0;32mas\u001b[0m \u001b[0mpd\u001b[0m\u001b[0;34m\u001b[0m\u001b[0;34m\u001b[0m\u001b[0m\n\u001b[0;32m----> 7\u001b[0;31m \u001b[0mdf\u001b[0m\u001b[0;34m=\u001b[0m \u001b[0mpd\u001b[0m\u001b[0;34m.\u001b[0m\u001b[0mDataFrame\u001b[0m\u001b[0;34m(\u001b[0m\u001b[0mmy_dict2\u001b[0m\u001b[0;34m)\u001b[0m\u001b[0;34m\u001b[0m\u001b[0;34m\u001b[0m\u001b[0m\n\u001b[0m\u001b[1;32m      8\u001b[0m \u001b[0mdf\u001b[0m\u001b[0;34m\u001b[0m\u001b[0;34m\u001b[0m\u001b[0m\n",
            "\u001b[0;31mNameError\u001b[0m: name 'my_dict2' is not defined"
          ]
        }
      ]
    },
    {
      "cell_type": "code",
      "source": [
        "#nested dictionary (dictionary that may contain other dictionaries)\n",
        "products  = {\n",
        "    \"laptop\": 56000,\n",
        "     \"price\"\n",
        "}"
      ],
      "metadata": {
        "id": "vebOu--Try8j"
      },
      "execution_count": null,
      "outputs": []
    },
    {
      "cell_type": "code",
      "source": [
        "#sets\n",
        "my_set= {1,2,3,4,5,6}\n",
        "print(my_set)"
      ],
      "metadata": {
        "colab": {
          "base_uri": "https://localhost:8080/"
        },
        "id": "00iL3aNov9ZW",
        "outputId": "b193e030-d034-455a-9078-79929e95645b"
      },
      "execution_count": null,
      "outputs": [
        {
          "output_type": "stream",
          "name": "stdout",
          "text": [
            "{1, 2, 3, 4, 5, 6}\n"
          ]
        }
      ]
    },
    {
      "cell_type": "code",
      "source": [
        "my_set2= {1,2,2,2,5,3,3,4,5,6}\n",
        "print(my_set2)"
      ],
      "metadata": {
        "colab": {
          "base_uri": "https://localhost:8080/"
        },
        "id": "La3RgFCCw3Oj",
        "outputId": "6539441c-ff99-4328-bc81-71e57392824a"
      },
      "execution_count": null,
      "outputs": [
        {
          "output_type": "stream",
          "name": "stdout",
          "text": [
            "{1, 2, 3, 4, 5, 6}\n"
          ]
        }
      ]
    },
    {
      "cell_type": "code",
      "source": [
        "#add items to a set\n",
        "my_set2.add(6)\n",
        "print(my_set2)"
      ],
      "metadata": {
        "colab": {
          "base_uri": "https://localhost:8080/"
        },
        "id": "mFATCOzJxJxO",
        "outputId": "b2839350-0c86-4e88-8e8e-95586b4aca01"
      },
      "execution_count": null,
      "outputs": [
        {
          "output_type": "stream",
          "name": "stdout",
          "text": [
            "{1, 2, 3, 4, 5, 6}\n"
          ]
        }
      ]
    },
    {
      "cell_type": "code",
      "source": [
        "#convert list to set\n",
        "list_numbers=[1,2,4,5,55,67,6,1,3,9,9,9,9]\n",
        "print(list_numbers)\n",
        "\n",
        "# convert inot a set\n",
        "set_numbers = set(list_numbers)\n",
        "print(set_numbers)\n"
      ],
      "metadata": {
        "id": "-mYgGWs8xr2A",
        "colab": {
          "base_uri": "https://localhost:8080/"
        },
        "outputId": "74cc622f-266f-42bb-a811-62b96dd2909f"
      },
      "execution_count": null,
      "outputs": [
        {
          "output_type": "stream",
          "name": "stdout",
          "text": [
            "[1, 2, 4, 5, 55, 67, 6, 1, 3, 9, 9, 9, 9]\n",
            "{1, 2, 67, 4, 5, 6, 3, 9, 55}\n"
          ]
        }
      ]
    },
    {
      "cell_type": "code",
      "source": [
        "# functions are reusable blocks of code\n",
        "# we use functions for certain or specific tasks\n",
        "\n",
        "x =  30\n",
        "y = 50\n",
        "print(x+y)"
      ],
      "metadata": {
        "colab": {
          "base_uri": "https://localhost:8080/"
        },
        "id": "A-5_G-NiKG1v",
        "outputId": "b0dda47a-107c-4855-d600-36f77e665881"
      },
      "execution_count": null,
      "outputs": [
        {
          "output_type": "stream",
          "name": "stdout",
          "text": [
            "80\n"
          ]
        }
      ]
    },
    {
      "cell_type": "code",
      "source": [
        "# we can write a reusable function that can add our numbers\n",
        "# at any time\n",
        "\n",
        "def add_numbers(a, b): # arguments\n",
        "  # parameters\n",
        "  return a + b\n",
        "\n",
        "result = add_numbers (40, 70)\n",
        "print(result)"
      ],
      "metadata": {
        "colab": {
          "base_uri": "https://localhost:8080/"
        },
        "id": "9snhoNNzKfFR",
        "outputId": "b350a19c-a7b9-4319-b3f3-89025336b5aa"
      },
      "execution_count": null,
      "outputs": [
        {
          "output_type": "stream",
          "name": "stdout",
          "text": [
            "110\n"
          ]
        }
      ]
    },
    {
      "cell_type": "code",
      "source": [
        "# reusing our function\n",
        "add_numbers (100,300)"
      ],
      "metadata": {
        "colab": {
          "base_uri": "https://localhost:8080/"
        },
        "id": "efHgLHPjKjgA",
        "outputId": "a628cca6-967d-4b3f-d83d-23b1bb65ba8e"
      },
      "execution_count": null,
      "outputs": [
        {
          "output_type": "execute_result",
          "data": {
            "text/plain": [
              "400"
            ]
          },
          "metadata": {},
          "execution_count": 4
        }
      ]
    },
    {
      "cell_type": "code",
      "source": [
        "# write a function that gets an average(mean) of a list of numbers\n",
        "\n",
        "def get_average(numbers):\n",
        "  if len(numbers) == 0:\n",
        "    return 0\n",
        "  return sum(numbers)/len(numbers)\n",
        "\n",
        "# writing a list\n",
        "# writing a list\n",
        "my_list = [10,20,30,40,50]\n",
        "get_average(my_list)"
      ],
      "metadata": {
        "colab": {
          "base_uri": "https://localhost:8080/"
        },
        "id": "wg_b1bgTKqfc",
        "outputId": "4e741455-21dd-4b28-c939-d7cbcd5d0409"
      },
      "execution_count": null,
      "outputs": [
        {
          "output_type": "execute_result",
          "data": {
            "text/plain": [
              "30.0"
            ]
          },
          "metadata": {},
          "execution_count": 5
        }
      ]
    },
    {
      "cell_type": "code",
      "source": [
        "# Challenge\n",
        "# write a function that solves the quadratic equation\n",
        "# ax^2 + bx + c\n",
        "# x = (-b +- sqrt(b^2 - 4ac )) / 2a\n",
        "# library is a set/collection of functions that perform\n",
        "# tasks relating to a certain\n",
        "# the math library has functions that solve math problems\n",
        "# arguments, parameters, return value\n",
        "\n",
        "import math\n",
        "\n",
        "def quadratic_equation():\n",
        "  a=int(input(\"Enter a: \"))\n",
        "  b=int(input(\"Enter b: \"))\n",
        "  c=int(input(\"Enter c: \"))\n",
        "\n",
        "  if a ==0\n",
        "  print(\"The value of a cannot be 0\")\n",
        "  return\n",
        "  else:\n",
        "square_part = b**2 - 4*a*c\n",
        "if square_part <0:\n",
        "  print(\"No real solution exists\")\n",
        "  return\n",
        "  else:\n",
        "  x1= (-b + math.sqrt(square_part))/ (2*a)\n",
        "  x2= (-b - math.sqrt(square_part))/ (2*a)\n",
        "  return x1, x2\n",
        "\n",
        "  quadratic_equation()\n",
        "\n",
        "\n",
        "\n",
        "\n",
        "\n"
      ],
      "metadata": {
        "colab": {
          "base_uri": "https://localhost:8080/",
          "height": 106
        },
        "id": "8JTy7Yf9Kzk7",
        "outputId": "a2270061-faae-4f9f-e7d8-9606f3a1a158"
      },
      "execution_count": null,
      "outputs": [
        {
          "output_type": "error",
          "ename": "SyntaxError",
          "evalue": "expected ':' (ipython-input-14-1457418271.py, line 17)",
          "traceback": [
            "\u001b[0;36m  File \u001b[0;32m\"/tmp/ipython-input-14-1457418271.py\"\u001b[0;36m, line \u001b[0;32m17\u001b[0m\n\u001b[0;31m    if a ==0\u001b[0m\n\u001b[0m            ^\u001b[0m\n\u001b[0;31mSyntaxError\u001b[0m\u001b[0;31m:\u001b[0m expected ':'\n"
          ]
        }
      ]
    },
    {
      "cell_type": "code",
      "source": [
        "# Challenge\n",
        "# in the previous example, provide conditions for user input\n",
        "# that is not a number"
      ],
      "metadata": {
        "id": "AWkD7drSK5ad"
      },
      "execution_count": null,
      "outputs": []
    },
    {
      "cell_type": "code",
      "source": [
        "# Challenge\n",
        "# write a function that gives us the maximum number in a list of numbers\n",
        "\n",
        "def find_max(numbers):\n",
        "    if not numbers:\n",
        "        return \"The list is empty.\"\n",
        "\n",
        "    max_number = numbers[0]\n",
        "    for num in numbers:\n",
        "        if num > max_number:\n",
        "            max_number = num\n",
        "    return max_number\n",
        "\n",
        "# Example usage\n",
        "my_list = [10, 3, 25, 7, 88, 14]\n",
        "print(\"Maximum number:\", find_max(my_list))\n"
      ],
      "metadata": {
        "colab": {
          "base_uri": "https://localhost:8080/"
        },
        "id": "UkKgdEqbK_NJ",
        "outputId": "680d1bba-8e1e-4a9b-facf-e86776aad781"
      },
      "execution_count": null,
      "outputs": [
        {
          "output_type": "stream",
          "name": "stdout",
          "text": [
            "Maximum number: 88\n"
          ]
        }
      ]
    },
    {
      "cell_type": "code",
      "source": [
        "# Challenge\n",
        "# write a function that gives us the minimum number in a list of numbers\n",
        "\n",
        "def find_min(numbers):\n",
        "    if not numbers:\n",
        "        return \"The list is empty.\"\n",
        "\n",
        "    min_number = numbers[0]\n",
        "    for num in numbers:\n",
        "        if num < min_number:\n",
        "            min_number = num\n",
        "    return min_number\n",
        "\n",
        "# Example usage\n",
        "my_list = [12, 5, -3, 8, 0, 27]\n",
        "print(\"Minimum number:\", find_min(my_list))\n"
      ],
      "metadata": {
        "colab": {
          "base_uri": "https://localhost:8080/"
        },
        "id": "bird0BIQLCWJ",
        "outputId": "20c805f5-99e5-486b-f924-27525caf5d03"
      },
      "execution_count": null,
      "outputs": [
        {
          "output_type": "stream",
          "name": "stdout",
          "text": [
            "Minimum number: -3\n"
          ]
        }
      ]
    },
    {
      "cell_type": "code",
      "source": [
        "# Challenge\n",
        "# write a function that gives us the number of occurences of an item in a list\n",
        "\n",
        "def count_occurrences(item, data_list):\n",
        "    count = 0\n",
        "    for element in data_list:\n",
        "        if element == item:\n",
        "            count += 1\n",
        "    return count\n",
        "\n",
        "# Example usage\n",
        "my_list = ['apple', 'banana', 'apple', 'orange', 'apple']\n",
        "item_to_count = 'apple'\n",
        "print(f\"'{item_to_count}' appears {count_occurrences(item_to_count, my_list)} times.\")\n"
      ],
      "metadata": {
        "colab": {
          "base_uri": "https://localhost:8080/"
        },
        "id": "-V6VWgk9LHPJ",
        "outputId": "1c619c08-cdb1-48a7-dcf8-b016bc29a902"
      },
      "execution_count": null,
      "outputs": [
        {
          "output_type": "stream",
          "name": "stdout",
          "text": [
            "'apple' appears 3 times.\n"
          ]
        }
      ]
    },
    {
      "cell_type": "code",
      "source": [
        "# Challenge\n",
        "# write a function that gives us the frequency distribution of items in a list\n",
        "\n",
        "def frequency_distribution(data_list):\n",
        "    frequency = {}\n",
        "    for item in data_list:\n",
        "        if item in frequency:\n",
        "            frequency[item] += 1\n",
        "        else:\n",
        "            frequency[item] = 1\n",
        "    return frequency\n",
        "\n",
        "# Example usage\n",
        "my_list = ['apple', 'banana', 'apple', 'orange', 'banana', 'apple']\n",
        "result = frequency_distribution(my_list)\n",
        "print(\"Frequency distribution:\", result)\n"
      ],
      "metadata": {
        "colab": {
          "base_uri": "https://localhost:8080/"
        },
        "id": "m34GDf58LP5u",
        "outputId": "ed3b2991-7ff7-4398-98c7-0d8a54a7e286"
      },
      "execution_count": null,
      "outputs": [
        {
          "output_type": "stream",
          "name": "stdout",
          "text": [
            "Frequency distribution: {'apple': 3, 'banana': 2, 'orange': 1}\n"
          ]
        }
      ]
    },
    {
      "cell_type": "code",
      "source": [
        "# Challenge\n",
        "# make a function that counts word frequencies in\n",
        "# in a given text\n",
        "\n",
        "def count_word_frequencies(text):\n",
        "    # Remove punctuation and convert to lowercase\n",
        "    cleaned_text = ''.join(char.lower() if char.isalnum() or char.isspace() else ' ' for char in text)\n",
        "\n",
        "    words = cleaned_text.split()  # Split the text into words\n",
        "    frequency = {}\n",
        "\n",
        "    for word in words:\n",
        "        if word in frequency:\n",
        "            frequency[word] += 1\n",
        "        else:\n",
        "            frequency[word] = 1\n",
        "\n",
        "    return frequency\n",
        "\n",
        "# Example usage\n",
        "sample_text = \"Hello world! Hello, Python. Python is great. Python is fun!\"\n",
        "result = count_word_frequencies(sample_text)\n",
        "print(\"Word frequencies:\", result)\n"
      ],
      "metadata": {
        "colab": {
          "base_uri": "https://localhost:8080/"
        },
        "id": "d3vk8-YpLW-_",
        "outputId": "71ede4a0-b763-4881-aafe-9eb4b9ba33d1"
      },
      "execution_count": null,
      "outputs": [
        {
          "output_type": "stream",
          "name": "stdout",
          "text": [
            "Word frequencies: {'hello': 2, 'world': 1, 'python': 3, 'is': 2, 'great': 1, 'fun': 1}\n"
          ]
        }
      ]
    },
    {
      "cell_type": "code",
      "source": [
        "# Challenge\n",
        "# write a function that detects an outlier\n",
        "\n",
        "def detect_parity_outlier(numbers):\n",
        "    evens = [n for n in numbers if n % 2 == 0]\n",
        "    odds = [n for n in numbers if n % 2 != 0]\n",
        "\n",
        "    if len(evens) == 1:\n",
        "        return evens[0]\n",
        "    elif len(odds) == 1:\n",
        "        return odds[0]\n",
        "    else:\n",
        "        return \"No clear outlier by parity.\"\n",
        "\n",
        "# Example usage:\n",
        "print(detect_parity_outlier([1, 3, 5, 7, 12]))  # Output: 12\n"
      ],
      "metadata": {
        "colab": {
          "base_uri": "https://localhost:8080/"
        },
        "id": "ogh-dCZCLhqO",
        "outputId": "573b19fd-ef34-4e09-d1bf-72b06367cd01"
      },
      "execution_count": null,
      "outputs": [
        {
          "output_type": "stream",
          "name": "stdout",
          "text": [
            "12\n"
          ]
        }
      ]
    },
    {
      "cell_type": "code",
      "source": [
        "# Challenge\n",
        "# write a function that visualizes data in a plot\n",
        "\n",
        "def simple_plot (x, y, title =\"Plot of X and Y\"):\n",
        "\n",
        "  import matplotlib.pyplot as plt\n",
        "  plt.plot(x,y)\n",
        "  plt.title(title)\n",
        "  plt.show()\n",
        "x= [1,2,3,4,5,6,7,8,9,10]\n",
        "y= [1,4,9,16,25,36,49,64,81,100]\n",
        "simple_plot(x,y)\n"
      ],
      "metadata": {
        "colab": {
          "base_uri": "https://localhost:8080/",
          "height": 452
        },
        "id": "DMw4Q_fWLnzL",
        "outputId": "fe7cd434-baad-46b9-83b1-c9d7580df8d1"
      },
      "execution_count": 22,
      "outputs": [
        {
          "output_type": "display_data",
          "data": {
            "text/plain": [
              "<Figure size 640x480 with 1 Axes>"
            ],
            "image/png": "[encoded data removed]"
          },
          "metadata": {}
        }
      ]
    },
    {
      "cell_type": "code",
      "source": [
        "# Challenge\n",
        "# Read a GitHub, create a GH account, learn about creating a repository"
      ],
      "metadata": {
        "id": "BowfAz2MLsa-"
      },
      "execution_count": null,
      "outputs": []
    },
    {
      "cell_type": "code",
      "source": [
        "# Challenge\n",
        "# create x and y\n",
        "x1 = [1,1,2,3,5,8,13,21,34,55,89]\n",
        "\n",
        "# get y1 by squaring the value x1\n",
        "# hint: think loops\n",
        "y1= []\n",
        "for value in x1:\n",
        "    y1.append(value ** 2)\n",
        "\n",
        "print(y1)\n",
        "\n",
        "# run the simple plot\n",
        "simple_plot(x1,y1)"
      ],
      "metadata": {
        "id": "50jW4b1XLv0t",
        "colab": {
          "base_uri": "https://localhost:8080/",
          "height": 469
        },
        "outputId": "0b337d87-157c-4751-c866-4b8c61e919b8"
      },
      "execution_count": 23,
      "outputs": [
        {
          "output_type": "stream",
          "name": "stdout",
          "text": [
            "[1, 1, 4, 9, 25, 64, 169, 441, 1156, 3025, 7921]\n"
          ]
        },
        {
          "output_type": "display_data",
          "data": {
            "text/plain": [
              "<Figure size 640x480 with 1 Axes>"
            ],
            "image/png": "[encoded data removed]"
          },
          "metadata": {}
        }
      ]
    },
    {
      "cell_type": "code",
      "source": [
        "simple_plot(x1,y1)"
      ],
      "metadata": {
        "colab": {
          "base_uri": "https://localhost:8080/",
          "height": 452
        },
        "id": "eW4YvtvtttCH",
        "outputId": "c7e71f07-ecab-4a6e-a9f7-12aaf0754c83"
      },
      "execution_count": 24,
      "outputs": [
        {
          "output_type": "display_data",
          "data": {
            "text/plain": [
              "<Figure size 640x480 with 1 Axes>"
            ],
            "image/png": "[encoded data removed]"
          },
          "metadata": {}
        }
      ]
    }
  ]
}